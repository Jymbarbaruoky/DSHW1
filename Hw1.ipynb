{
 "cells": [
  {
   "cell_type": "code",
   "execution_count": 3,
   "id": "9571a3d1",
   "metadata": {},
   "outputs": [],
   "source": [
    "import numpy as np"
   ]
  },
  {
   "cell_type": "code",
   "execution_count": 4,
   "id": "0a868c28",
   "metadata": {},
   "outputs": [
    {
     "name": "stdout",
     "output_type": "stream",
     "text": [
      "[0 1 2 3 4 5 6 7 8 9]\n"
     ]
    }
   ],
   "source": [
    "ftn = np.arange(10)\n",
    "print(ftn)"
   ]
  },
  {
   "cell_type": "code",
   "execution_count": 5,
   "id": "47c2b88e",
   "metadata": {},
   "outputs": [
    {
     "name": "stdout",
     "output_type": "stream",
     "text": [
      "[[0 0 0]\n",
      " [0 0 0]\n",
      " [0 0 0]]\n"
     ]
    }
   ],
   "source": [
    "zm = np.zeros((3, 3), dtype=int)\n",
    "print(zm)"
   ]
  },
  {
   "cell_type": "code",
   "execution_count": 6,
   "id": "a2808fba",
   "metadata": {},
   "outputs": [
    {
     "name": "stdout",
     "output_type": "stream",
     "text": [
      "[[ 2  2 10  5  9]\n",
      " [10  8  3 10  1]\n",
      " [ 8  3  5  6  6]\n",
      " [ 7  1  7  5  3]\n",
      " [ 8  9  8 10  6]]\n"
     ]
    }
   ],
   "source": [
    "rm = np.random.randint(1, 11, size=(5, 5))\n",
    "print(rm)"
   ]
  },
  {
   "cell_type": "code",
   "execution_count": 7,
   "id": "5db026ef",
   "metadata": {},
   "outputs": [
    {
     "name": "stdout",
     "output_type": "stream",
     "text": [
      "[[0.67299437 0.78905169 0.74711083 0.67817975]\n",
      " [0.7537965  0.4041438  0.93909114 0.60247323]\n",
      " [0.0414344  0.25776928 0.30736026 0.81946527]\n",
      " [0.50310801 0.34998888 0.07755064 0.47430761]]\n"
     ]
    }
   ],
   "source": [
    "rnm = np.random.random((4, 4))\n",
    "print(rnm)"
   ]
  },
  {
   "cell_type": "code",
   "execution_count": 8,
   "id": "b0c2d670",
   "metadata": {},
   "outputs": [
    {
     "name": "stdout",
     "output_type": "stream",
     "text": [
      "[4 3 9 3 7] [9 1 4 6 1]\n",
      "[13  4 13  9  8]\n",
      "[-5  2  5 -3  6]\n",
      "[36  3 36 18  7]\n"
     ]
    }
   ],
   "source": [
    "fv = np.random.randint(1, 11, 5)\n",
    "sv = np.random.randint(1, 11, 5)\n",
    "print(fv, sv)\n",
    "print(fv + sv)\n",
    "print(fv - sv)\n",
    "print(fv * sv)"
   ]
  },
  {
   "cell_type": "code",
   "execution_count": 9,
   "id": "c2a6180e",
   "metadata": {},
   "outputs": [
    {
     "name": "stdout",
     "output_type": "stream",
     "text": [
      "[ 3  3  9  4 10  4  7] [ 1  5 10  8 10  9  4]\n",
      "304\n"
     ]
    }
   ],
   "source": [
    "rv1 = np.random.randint(1, 11, 7)\n",
    "rv2 = np.random.randint(1, 11, 7)\n",
    "print(rv1, rv2)\n",
    "print(np.dot(rv1, rv2))"
   ]
  },
  {
   "cell_type": "code",
   "execution_count": 10,
   "id": "6fa717cd",
   "metadata": {},
   "outputs": [
    {
     "name": "stdout",
     "output_type": "stream",
     "text": [
      "[[7 1]\n",
      " [6 6]] [[7 5 9]\n",
      " [1 2 8]]\n",
      "[[ 50  37  71]\n",
      " [ 48  42 102]]\n"
     ]
    }
   ],
   "source": [
    "rm1 = np.random.randint(1, 11, size=(2, 2))\n",
    "rm2 = np.random.randint(1, 11, size=(2, 3))\n",
    "print(rm1, rm2)\n",
    "print(np.dot(rm1, rm2))"
   ]
  },
  {
   "cell_type": "code",
   "execution_count": 13,
   "id": "699ceb8b",
   "metadata": {},
   "outputs": [
    {
     "name": "stdout",
     "output_type": "stream",
     "text": [
      "[[5 2 5]\n",
      " [3 1 8]\n",
      " [1 8 1]]\n",
      "[[ 0.33157895 -0.2        -0.05789474]\n",
      " [-0.02631579  0.          0.13157895]\n",
      " [-0.12105263  0.2         0.00526316]]\n"
     ]
    }
   ],
   "source": [
    "rm = np.random.randint(1, 11, size=(3, 3))\n",
    "print(rm)\n",
    "rm_ins = np.linalg.inv(rm)\n",
    "print(rm_ins)"
   ]
  },
  {
   "cell_type": "code",
   "execution_count": 14,
   "id": "26176a33",
   "metadata": {},
   "outputs": [
    {
     "name": "stdout",
     "output_type": "stream",
     "text": [
      "[[1 2 7 8]\n",
      " [1 4 8 1]\n",
      " [9 5 9 2]\n",
      " [1 6 5 7]]\n",
      "[[1 1 9 1]\n",
      " [2 4 5 6]\n",
      " [7 8 9 5]\n",
      " [8 1 2 7]]\n"
     ]
    }
   ],
   "source": [
    "rm = np.random.randint(1, 11, size=(4, 4))\n",
    "print(rm)\n",
    "transrm = rm.T\n",
    "print(transrm)"
   ]
  },
  {
   "cell_type": "code",
   "execution_count": 15,
   "id": "93e02d8b",
   "metadata": {},
   "outputs": [
    {
     "name": "stdout",
     "output_type": "stream",
     "text": [
      "[[ 2 10  6  3]\n",
      " [ 4  8  8  2]\n",
      " [ 9  1  7  7]] [4 2 4 7]\n",
      "[ 73  78 115]\n"
     ]
    }
   ],
   "source": [
    "rm = np.random.randint(1, 11, size=(3, 4))\n",
    "rv = np.random.randint(1, 11, 4)\n",
    "print(rm, rv)\n",
    "print(np.dot(rm, rv))"
   ]
  },
  {
   "cell_type": "code",
   "execution_count": 16,
   "id": "a6df3fa2",
   "metadata": {},
   "outputs": [
    {
     "name": "stdout",
     "output_type": "stream",
     "text": [
      "[[0.66349128 0.44750116 0.09747057]\n",
      " [0.75236432 0.10867498 0.13914554]] [0.26809067 0.53488147 0.76188154]\n",
      "[0.49149693 0.36584251]\n"
     ]
    }
   ],
   "source": [
    "rnm = np.random.random((2, 3))\n",
    "rnv = np.random.random(3)\n",
    "print(rnm, rnv)\n",
    "print(np.dot(rnm, rnv))"
   ]
  },
  {
   "cell_type": "code",
   "execution_count": 17,
   "id": "d257cee5",
   "metadata": {},
   "outputs": [
    {
     "name": "stdout",
     "output_type": "stream",
     "text": [
      "[[4 2]\n",
      " [8 6]] [[1 5]\n",
      " [5 6]]\n",
      "[[ 4 10]\n",
      " [40 36]]\n"
     ]
    }
   ],
   "source": [
    "rm1 = np.random.randint(1, 11, size=(2, 2))\n",
    "rm2 = np.random.randint(1, 11, size=(2, 2))\n",
    "print(rm1, rm2)\n",
    "print(rm1*rm2)"
   ]
  },
  {
   "cell_type": "code",
   "execution_count": 18,
   "id": "2ca10a81",
   "metadata": {},
   "outputs": [
    {
     "name": "stdout",
     "output_type": "stream",
     "text": [
      "[[9 7]\n",
      " [2 5]] [[8 9]\n",
      " [6 8]]\n",
      "[[1.125      0.77777778]\n",
      " [0.33333333 0.625     ]]\n"
     ]
    }
   ],
   "source": [
    "rm1 = np.random.randint(1, 11, size=(2, 2))\n",
    "rm2 = np.random.randint(1, 11, size=(2, 2))\n",
    "print(rm1, rm2)\n",
    "print(rm1/rm2)"
   ]
  },
  {
   "cell_type": "code",
   "execution_count": 19,
   "id": "69cbc5b9",
   "metadata": {},
   "outputs": [
    {
     "name": "stdout",
     "output_type": "stream",
     "text": [
      "[[59 27 24 15 20]\n",
      " [26 29 33 29  6]\n",
      " [96  4  2 99 10]\n",
      " [41 83 23 94 77]\n",
      " [49 23 93 53 45]]\n",
      "1060\n"
     ]
    }
   ],
   "source": [
    "rm = np.random.randint(1, 101, size=(5, 5))\n",
    "print(rm)\n",
    "print(rm.sum())"
   ]
  },
  {
   "cell_type": "code",
   "execution_count": 20,
   "id": "604a689b",
   "metadata": {},
   "outputs": [
    {
     "name": "stdout",
     "output_type": "stream",
     "text": [
      "[[ 8  4  6 10]\n",
      " [ 7  1  3  4]\n",
      " [ 6  1  8  7]\n",
      " [10 10  5  7]] [[1 3 2 1]\n",
      " [7 1 5 9]\n",
      " [6 6 6 9]\n",
      " [3 4 5 6]]\n",
      "[[ 7  1  4  9]\n",
      " [ 0  0 -2 -5]\n",
      " [ 0 -5  2 -2]\n",
      " [ 7  6  0  1]]\n"
     ]
    }
   ],
   "source": [
    "rm1 = np.random.randint(1, 11, size=(4, 4))\n",
    "rm2 = np.random.randint(1, 11, size=(4, 4))\n",
    "print(rm1, rm2)\n",
    "print(rm1-rm2)"
   ]
  },
  {
   "cell_type": "code",
   "execution_count": 21,
   "id": "de6c6887",
   "metadata": {},
   "outputs": [
    {
     "name": "stdout",
     "output_type": "stream",
     "text": [
      "[[0.56838417 0.76432031 0.19685208]\n",
      " [0.66897723 0.96466918 0.33936992]\n",
      " [0.73668166 0.24607167 0.67546546]]\n",
      "[1.52955656 1.97301632 1.6582188 ]\n"
     ]
    }
   ],
   "source": [
    "rnm = np.random.random((3, 3))\n",
    "print(rnm)\n",
    "resv = np.array([rnm[0].sum(), rnm[1].sum(), rnm[2].sum()])\n",
    "print(resv)"
   ]
  },
  {
   "cell_type": "code",
   "execution_count": 22,
   "id": "9e282e50",
   "metadata": {},
   "outputs": [
    {
     "name": "stdout",
     "output_type": "stream",
     "text": [
      "[[12 75 17 10]\n",
      " [94  4 38 51]\n",
      " [18 18  4 29]]\n",
      "[[ 144 5625  289  100]\n",
      " [8836   16 1444 2601]\n",
      " [ 324  324   16  841]]\n"
     ]
    }
   ],
   "source": [
    "rm = np.random.randint(1, 101, size=(3, 4))\n",
    "print(rm)\n",
    "resm = np.square(rm)\n",
    "print(resm)"
   ]
  },
  {
   "cell_type": "code",
   "execution_count": 23,
   "id": "e36f2c8a",
   "metadata": {},
   "outputs": [
    {
     "name": "stdout",
     "output_type": "stream",
     "text": [
      "[42 43 42 18]\n",
      "[6.4807407  6.55743852 6.4807407  4.24264069]\n"
     ]
    }
   ],
   "source": [
    "rv = np.random.randint(1, 51, 4)\n",
    "print(rv)\n",
    "resv = np.sqrt(rv)\n",
    "print(resv)"
   ]
  },
  {
   "cell_type": "code",
   "execution_count": null,
   "id": "ab2daafd",
   "metadata": {},
   "outputs": [],
   "source": []
  }
 ],
 "metadata": {
  "kernelspec": {
   "display_name": "Python 3 (ipykernel)",
   "language": "python",
   "name": "python3"
  },
  "language_info": {
   "codemirror_mode": {
    "name": "ipython",
    "version": 3
   },
   "file_extension": ".py",
   "mimetype": "text/x-python",
   "name": "python",
   "nbconvert_exporter": "python",
   "pygments_lexer": "ipython3",
   "version": "3.10.9"
  }
 },
 "nbformat": 4,
 "nbformat_minor": 5
}
